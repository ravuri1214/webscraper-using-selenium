{
 "cells": [
  {
   "cell_type": "code",
   "execution_count": 1,
   "id": "35f713cc-0bab-45e1-baae-62cee32a96c7",
   "metadata": {},
   "outputs": [
    {
     "name": "stdout",
     "output_type": "stream",
     "text": [
      "Collecting selenium\n",
      "  Downloading selenium-4.26.1-py3-none-any.whl.metadata (7.1 kB)\n",
      "Requirement already satisfied: urllib3<3,>=1.26 in d:\\anaconda.com\\lib\\site-packages (from urllib3[socks]<3,>=1.26->selenium) (2.2.2)\n",
      "Collecting trio~=0.17 (from selenium)\n",
      "  Downloading trio-0.27.0-py3-none-any.whl.metadata (8.6 kB)\n",
      "Collecting trio-websocket~=0.9 (from selenium)\n",
      "  Downloading trio_websocket-0.11.1-py3-none-any.whl.metadata (4.7 kB)\n",
      "Requirement already satisfied: certifi>=2021.10.8 in d:\\anaconda.com\\lib\\site-packages (from selenium) (2024.8.30)\n",
      "Requirement already satisfied: typing_extensions~=4.9 in d:\\anaconda.com\\lib\\site-packages (from selenium) (4.11.0)\n",
      "Requirement already satisfied: websocket-client~=1.8 in d:\\anaconda.com\\lib\\site-packages (from selenium) (1.8.0)\n",
      "Collecting attrs>=23.2.0 (from trio~=0.17->selenium)\n",
      "  Downloading attrs-24.2.0-py3-none-any.whl.metadata (11 kB)\n",
      "Requirement already satisfied: sortedcontainers in d:\\anaconda.com\\lib\\site-packages (from trio~=0.17->selenium) (2.4.0)\n",
      "Requirement already satisfied: idna in d:\\anaconda.com\\lib\\site-packages (from trio~=0.17->selenium) (3.7)\n",
      "Collecting outcome (from trio~=0.17->selenium)\n",
      "  Downloading outcome-1.3.0.post0-py2.py3-none-any.whl.metadata (2.6 kB)\n",
      "Requirement already satisfied: sniffio>=1.3.0 in d:\\anaconda.com\\lib\\site-packages (from trio~=0.17->selenium) (1.3.0)\n",
      "Requirement already satisfied: cffi>=1.14 in d:\\anaconda.com\\lib\\site-packages (from trio~=0.17->selenium) (1.16.0)\n",
      "Collecting wsproto>=0.14 (from trio-websocket~=0.9->selenium)\n",
      "  Downloading wsproto-1.2.0-py3-none-any.whl.metadata (5.6 kB)\n",
      "Requirement already satisfied: pysocks!=1.5.7,<2.0,>=1.5.6 in d:\\anaconda.com\\lib\\site-packages (from urllib3[socks]<3,>=1.26->selenium) (1.7.1)\n",
      "Requirement already satisfied: pycparser in d:\\anaconda.com\\lib\\site-packages (from cffi>=1.14->trio~=0.17->selenium) (2.21)\n",
      "Requirement already satisfied: h11<1,>=0.9.0 in d:\\anaconda.com\\lib\\site-packages (from wsproto>=0.14->trio-websocket~=0.9->selenium) (0.14.0)\n",
      "Downloading selenium-4.26.1-py3-none-any.whl (9.7 MB)\n",
      "   ---------------------------------------- 0.0/9.7 MB ? eta -:--:--\n",
      "   ---------------------------------------- 0.0/9.7 MB ? eta -:--:--\n",
      "   ---------------------------------------- 0.0/9.7 MB 660.6 kB/s eta 0:00:15\n",
      "   ---------------------------------------- 0.1/9.7 MB 939.4 kB/s eta 0:00:11\n",
      "   - -------------------------------------- 0.3/9.7 MB 1.8 MB/s eta 0:00:06\n",
      "   -- ------------------------------------- 0.5/9.7 MB 2.6 MB/s eta 0:00:04\n",
      "   --- ------------------------------------ 0.7/9.7 MB 3.1 MB/s eta 0:00:03\n",
      "   ---- ----------------------------------- 1.1/9.7 MB 3.9 MB/s eta 0:00:03\n",
      "   ----- ---------------------------------- 1.4/9.7 MB 4.2 MB/s eta 0:00:03\n",
      "   ------- -------------------------------- 1.8/9.7 MB 4.7 MB/s eta 0:00:02\n",
      "   ------- -------------------------------- 1.9/9.7 MB 4.4 MB/s eta 0:00:02\n",
      "   -------- ------------------------------- 2.2/9.7 MB 4.6 MB/s eta 0:00:02\n",
      "   ---------- ----------------------------- 2.5/9.7 MB 4.8 MB/s eta 0:00:02\n",
      "   ----------- ---------------------------- 2.8/9.7 MB 4.9 MB/s eta 0:00:02\n",
      "   ------------- -------------------------- 3.2/9.7 MB 5.2 MB/s eta 0:00:02\n",
      "   ------------- -------------------------- 3.2/9.7 MB 4.9 MB/s eta 0:00:02\n",
      "   ------------- -------------------------- 3.3/9.7 MB 4.9 MB/s eta 0:00:02\n",
      "   --------------- ------------------------ 3.8/9.7 MB 5.1 MB/s eta 0:00:02\n",
      "   ---------------- ----------------------- 4.1/9.7 MB 5.0 MB/s eta 0:00:02\n",
      "   ----------------- ---------------------- 4.3/9.7 MB 5.0 MB/s eta 0:00:02\n",
      "   ------------------- -------------------- 4.7/9.7 MB 5.1 MB/s eta 0:00:01\n",
      "   ------------------- -------------------- 4.8/9.7 MB 5.0 MB/s eta 0:00:01\n",
      "   --------------------- ------------------ 5.2/9.7 MB 5.1 MB/s eta 0:00:01\n",
      "   ---------------------- ----------------- 5.5/9.7 MB 5.3 MB/s eta 0:00:01\n",
      "   ------------------------ --------------- 5.9/9.7 MB 5.4 MB/s eta 0:00:01\n",
      "   ------------------------- -------------- 6.3/9.7 MB 5.5 MB/s eta 0:00:01\n",
      "   --------------------------- ------------ 6.6/9.7 MB 5.6 MB/s eta 0:00:01\n",
      "   ---------------------------- ----------- 6.9/9.7 MB 5.6 MB/s eta 0:00:01\n",
      "   ----------------------------- ---------- 7.2/9.7 MB 5.7 MB/s eta 0:00:01\n",
      "   ------------------------------ --------- 7.5/9.7 MB 5.6 MB/s eta 0:00:01\n",
      "   -------------------------------- ------- 7.8/9.7 MB 5.7 MB/s eta 0:00:01\n",
      "   --------------------------------- ------ 8.2/9.7 MB 5.8 MB/s eta 0:00:01\n",
      "   ---------------------------------- ----- 8.4/9.7 MB 5.7 MB/s eta 0:00:01\n",
      "   ------------------------------------ --- 8.7/9.7 MB 5.8 MB/s eta 0:00:01\n",
      "   ------------------------------------- -- 9.0/9.7 MB 5.7 MB/s eta 0:00:01\n",
      "   -------------------------------------- - 9.3/9.7 MB 5.8 MB/s eta 0:00:01\n",
      "   ---------------------------------------  9.5/9.7 MB 5.7 MB/s eta 0:00:01\n",
      "   ---------------------------------------  9.7/9.7 MB 5.7 MB/s eta 0:00:01\n",
      "   ---------------------------------------- 9.7/9.7 MB 5.6 MB/s eta 0:00:00\n",
      "Downloading trio-0.27.0-py3-none-any.whl (481 kB)\n",
      "   ---------------------------------------- 0.0/481.7 kB ? eta -:--:--\n",
      "   ------------------- -------------------- 235.5/481.7 kB 7.0 MB/s eta 0:00:01\n",
      "   ---------------------------------------  481.3/481.7 kB 6.0 MB/s eta 0:00:01\n",
      "   ---------------------------------------- 481.7/481.7 kB 5.0 MB/s eta 0:00:00\n",
      "Downloading trio_websocket-0.11.1-py3-none-any.whl (17 kB)\n",
      "Downloading attrs-24.2.0-py3-none-any.whl (63 kB)\n",
      "   ---------------------------------------- 0.0/63.0 kB ? eta -:--:--\n",
      "   ---------------------------------------- 63.0/63.0 kB 3.5 MB/s eta 0:00:00\n",
      "Downloading wsproto-1.2.0-py3-none-any.whl (24 kB)\n",
      "Downloading outcome-1.3.0.post0-py2.py3-none-any.whl (10 kB)\n",
      "Installing collected packages: wsproto, attrs, outcome, trio, trio-websocket, selenium\n",
      "  Attempting uninstall: attrs\n",
      "    Found existing installation: attrs 23.1.0\n",
      "    Uninstalling attrs-23.1.0:\n",
      "      Successfully uninstalled attrs-23.1.0\n",
      "Successfully installed attrs-24.2.0 outcome-1.3.0.post0 selenium-4.26.1 trio-0.27.0 trio-websocket-0.11.1 wsproto-1.2.0\n",
      "Collecting chromedriver_binary\n",
      "  Downloading chromedriver_binary-133.0.6855.0.0.tar.gz (5.6 kB)\n",
      "  Preparing metadata (setup.py): started\n",
      "  Preparing metadata (setup.py): finished with status 'done'\n",
      "Building wheels for collected packages: chromedriver_binary\n",
      "  Building wheel for chromedriver_binary (setup.py): started\n",
      "  Building wheel for chromedriver_binary (setup.py): finished with status 'done'\n",
      "  Created wheel for chromedriver_binary: filename=chromedriver_binary-133.0.6855.0.0-py3-none-any.whl size=9086082 sha256=a9811bce554a90c78af58e8c05ac8b836729ff8a71f6a87404fe7aacb7b23e94\n",
      "  Stored in directory: c:\\users\\yamin\\appdata\\local\\pip\\cache\\wheels\\bc\\3a\\52\\b48e860223da00dc9b6e5d2791b5289a84a8a8db7ea011bb5d\n",
      "Successfully built chromedriver_binary\n",
      "Installing collected packages: chromedriver_binary\n",
      "Successfully installed chromedriver_binary-133.0.6855.0.0\n"
     ]
    }
   ],
   "source": [
    "!pip install selenium\n",
    "!pip install chromedriver_binary"
   ]
  },
  {
   "cell_type": "code",
   "execution_count": 29,
   "id": "c2ababe0-ab76-4225-b193-9abacacc2528",
   "metadata": {},
   "outputs": [],
   "source": [
    "from selenium import webdriver\n",
    "from selenium.webdriver.chrome.service import Service\n",
    "import chromedriver_binary"
   ]
  },
  {
   "cell_type": "code",
   "execution_count": 31,
   "id": "e5521ce4-43d5-43ec-ba0b-a24546fe063c",
   "metadata": {},
   "outputs": [],
   "source": [
    "service = Service(r'D:\\Anaconda.com\\Lib\\site-packages\\chromedriver_binary\\chromedriver_32\\chromedriver-win32\\chromedriver.exe')  # Update this path\n",
    "driver = webdriver.Chrome(service=service)"
   ]
  },
  {
   "cell_type": "code",
   "execution_count": 33,
   "id": "44067509-091f-4096-b5e2-153a2bedb2da",
   "metadata": {
    "panel-layout": {
     "height": 10,
     "visible": true,
     "width": 100
    }
   },
   "outputs": [
    {
     "data": {
      "text/plain": [
       "<selenium.webdriver.chrome.webdriver.WebDriver (session=\"3a33bc794f395388eafa4f857897cecb\")>"
      ]
     },
     "execution_count": 33,
     "metadata": {},
     "output_type": "execute_result"
    }
   ],
   "source": [
    "driver"
   ]
  },
  {
   "cell_type": "code",
   "execution_count": null,
   "id": "02b6a92f-9306-4017-aea6-c46a3b47f068",
   "metadata": {},
   "outputs": [],
   "source": []
  }
 ],
 "metadata": {
  "kernelspec": {
   "display_name": "Python 3 (ipykernel)",
   "language": "python",
   "name": "python3"
  },
  "language_info": {
   "codemirror_mode": {
    "name": "ipython",
    "version": 3
   },
   "file_extension": ".py",
   "mimetype": "text/x-python",
   "name": "python",
   "nbconvert_exporter": "python",
   "pygments_lexer": "ipython3",
   "version": "3.12.4"
  },
  "panel-cell-order": [
   "44067509-091f-4096-b5e2-153a2bedb2da"
  ]
 },
 "nbformat": 4,
 "nbformat_minor": 5
}
